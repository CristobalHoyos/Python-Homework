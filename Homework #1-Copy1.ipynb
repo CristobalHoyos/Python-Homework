{
 "cells": [
  {
   "cell_type": "code",
   "execution_count": 1,
   "id": "ba48b08c",
   "metadata": {},
   "outputs": [
    {
     "name": "stdout",
     "output_type": "stream",
     "text": [
      "F1 Race Analysis.........\n",
      "\n",
      "\n",
      "There are 13 racers:\n",
      " ['Hamilton', 'Vettel', 'Verstapen', 'Russel', 'Stroll', 'Latifi', 'Magnussen', 'Schumacher', 'Leclerc', 'Sainz', 'Perez', 'Bottas', 'Alonso']\n",
      "\n",
      "The average lap time was: 1.44\n",
      "\n",
      "Fastest lap: 1.15 \n",
      "Driver: Vettel\n"
     ]
    }
   ],
   "source": [
    "import math\n",
    "\n",
    "#Initiate List with lap times\n",
    "lapTimes = [1.45, 1.15, 1.22, 1.34, 1.55, 1.77, 1.44, 1.60, 1.26, 1.82, 1.30, 1.41, 1.38]\n",
    "\n",
    "#Intiate list with drivers names\n",
    "racers = [\"Hamilton\", \"Vettel\", \"Verstapen\", \"Russel\", \"Stroll\", \"Latifi\", \"Magnussen\", \"Schumacher\", \"Leclerc\", \"Sainz\", \"Perez\", \"Bottas\", \"Alonso\"]\n",
    "\n",
    "#function for sum using a for loop\n",
    "def doSum():\n",
    "        sum = 0\n",
    "        for x in lapTimes:\n",
    "            sum = sum + x\n",
    "        return sum\n",
    "\n",
    "#function to get the smallest number also using a for loop\n",
    "def getSmallest(myList):\n",
    "        smallest = lapTimes[0]\n",
    "        for x in lapTimes:\n",
    "            if smallest>x:\n",
    "                smallest = x\n",
    "        return smallest\n",
    "\n",
    "#function to get the racer which has the fastest lap\n",
    "def getRacer():\n",
    "    index = lapTimes.index(getSmallest(lapTimes)) #Find index of driver with fastest lap, encapsulated function getSmallest()\n",
    "    name = racers[index] #Use previous index from laptimes to find the name of the driver that had the fastest time\n",
    "    return name\n",
    "            \n",
    "n = len(lapTimes)\n",
    "mean = round(doSum()/n,2)\n",
    "fastest = getSmallest(lapTimes)\n",
    "driver = getRacer()\n",
    "\n",
    "print(\"F1 Race Analysis.........\\n\\n\")\n",
    "print(\"There are\",n,\"racers:\\n\",racers)\n",
    "print(\"\\nThe average lap time was:\",mean)\n",
    "print(\"\\nFastest lap:\",fastest,\"\\nDriver:\",driver)"
   ]
  },
  {
   "cell_type": "code",
   "execution_count": null,
   "id": "17b51947",
   "metadata": {},
   "outputs": [],
   "source": []
  }
 ],
 "metadata": {
  "kernelspec": {
   "display_name": "Python 3 (ipykernel)",
   "language": "python",
   "name": "python3"
  },
  "language_info": {
   "codemirror_mode": {
    "name": "ipython",
    "version": 3
   },
   "file_extension": ".py",
   "mimetype": "text/x-python",
   "name": "python",
   "nbconvert_exporter": "python",
   "pygments_lexer": "ipython3",
   "version": "3.9.12"
  }
 },
 "nbformat": 4,
 "nbformat_minor": 5
}
